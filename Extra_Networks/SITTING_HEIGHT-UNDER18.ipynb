{
 "cells": [
  {
   "cell_type": "code",
   "execution_count": 1,
   "metadata": {},
   "outputs": [],
   "source": [
    "import torch\n",
    "import torch.nn as nn\n",
    "import torch.nn.functional as F\n",
    "import matplotlib.pyplot as plt\n",
    "import numpy as np\n",
    "import pandas as pd\n",
    "from time import time\n",
    "import numpy as np\n",
    "import os"
   ]
  },
  {
   "cell_type": "code",
   "execution_count": 2,
   "metadata": {
    "scrolled": true
   },
   "outputs": [
    {
     "data": {
      "text/html": [
       "<div>\n",
       "<style scoped>\n",
       "    .dataframe tbody tr th:only-of-type {\n",
       "        vertical-align: middle;\n",
       "    }\n",
       "\n",
       "    .dataframe tbody tr th {\n",
       "        vertical-align: top;\n",
       "    }\n",
       "\n",
       "    .dataframe thead th {\n",
       "        text-align: right;\n",
       "    }\n",
       "</style>\n",
       "<table border=\"1\" class=\"dataframe\">\n",
       "  <thead>\n",
       "    <tr style=\"text-align: right;\">\n",
       "      <th></th>\n",
       "      <th>ID</th>\n",
       "      <th>SEX</th>\n",
       "      <th>AGE</th>\n",
       "      <th>STANDING_HEIGHT_BABY</th>\n",
       "      <th>STANDING_HEIGHT</th>\n",
       "      <th>SITTING_HEIGHT</th>\n",
       "      <th>SELF_HEIGHT</th>\n",
       "      <th>UPPER_LEG</th>\n",
       "    </tr>\n",
       "  </thead>\n",
       "  <tbody>\n",
       "    <tr>\n",
       "      <th>31308</th>\n",
       "      <td>53596</td>\n",
       "      <td>Male</td>\n",
       "      <td>01</td>\n",
       "      <td></td>\n",
       "      <td></td>\n",
       "      <td></td>\n",
       "      <td></td>\n",
       "      <td></td>\n",
       "    </tr>\n",
       "    <tr>\n",
       "      <th>31309</th>\n",
       "      <td>53616</td>\n",
       "      <td>Male</td>\n",
       "      <td>85</td>\n",
       "      <td>172.8</td>\n",
       "      <td>172.72</td>\n",
       "      <td>90.0</td>\n",
       "      <td></td>\n",
       "      <td>0038</td>\n",
       "    </tr>\n",
       "    <tr>\n",
       "      <th>31310</th>\n",
       "      <td>53617</td>\n",
       "      <td>Male</td>\n",
       "      <td>07</td>\n",
       "      <td>128.4</td>\n",
       "      <td>128.524</td>\n",
       "      <td>64.8</td>\n",
       "      <td></td>\n",
       "      <td>0032</td>\n",
       "    </tr>\n",
       "    <tr>\n",
       "      <th>31311</th>\n",
       "      <td>53621</td>\n",
       "      <td>Male</td>\n",
       "      <td>01</td>\n",
       "      <td></td>\n",
       "      <td></td>\n",
       "      <td></td>\n",
       "      <td></td>\n",
       "      <td></td>\n",
       "    </tr>\n",
       "    <tr>\n",
       "      <th>31312</th>\n",
       "      <td>53623</td>\n",
       "      <td>Female</td>\n",
       "      <td>17</td>\n",
       "      <td>165.2</td>\n",
       "      <td>165.1</td>\n",
       "      <td>88.5</td>\n",
       "      <td></td>\n",
       "      <td>37.5</td>\n",
       "    </tr>\n",
       "  </tbody>\n",
       "</table>\n",
       "</div>"
      ],
      "text/plain": [
       "          ID     SEX AGE STANDING_HEIGHT_BABY STANDING_HEIGHT SITTING_HEIGHT  \\\n",
       "31308  53596    Male  01                                                       \n",
       "31309  53616    Male  85                172.8          172.72           90.0   \n",
       "31310  53617    Male  07                128.4         128.524           64.8   \n",
       "31311  53621    Male  01                                                       \n",
       "31312  53623  Female  17                165.2           165.1           88.5   \n",
       "\n",
       "      SELF_HEIGHT UPPER_LEG  \n",
       "31308                        \n",
       "31309                  0038  \n",
       "31310                  0032  \n",
       "31311                        \n",
       "31312                  37.5  "
      ]
     },
     "execution_count": 2,
     "metadata": {},
     "output_type": "execute_result"
    }
   ],
   "source": [
    "import pandas as pd\n",
    "\n",
    "dataset_path ='data/nhanes_III_result.csv'\n",
    "column_names = [\n",
    "        \"ID\",\n",
    "        \"SEX\",\n",
    "        \"AGE\",\n",
    "        \"STANDING_HEIGHT_BABY\",\n",
    "        \"STANDING_HEIGHT\",\n",
    "        \"SITTING_HEIGHT\",\n",
    "        \"SELF_HEIGHT\",\n",
    "        \"UPPER_LEG\"]\n",
    "\n",
    "\n",
    "raw_dataset = pd.read_csv(dataset_path, names=column_names)\n",
    "\n",
    "dataset = raw_dataset.copy()\n",
    "dataset.tail()"
   ]
  },
  {
   "cell_type": "markdown",
   "metadata": {},
   "source": [
    "## Pre-Processing "
   ]
  },
  {
   "cell_type": "code",
   "execution_count": 3,
   "metadata": {},
   "outputs": [
    {
     "name": "stdout",
     "output_type": "stream",
     "text": [
      "9962\n",
      "150\n"
     ]
    }
   ],
   "source": [
    "x = dataset['SITTING_HEIGHT']\n",
    "x_age = dataset['AGE']\n",
    "y = dataset['STANDING_HEIGHT']\n",
    "\n",
    "# 29089\n",
    "\n",
    "x_train = []\n",
    "y_train = []\n",
    "\n",
    "\n",
    "for index, value in enumerate(x):\n",
    "    if index >=2 and int(x_age[index]) < 18:\n",
    "        if (value != '     ') and (float(value) > 10.0):\n",
    "            if float(y[index]) < 300:\n",
    "                x_train.append(float(value))\n",
    "                y_train.append(float(y[index]))\n",
    "    \n",
    "x_train_float = np.array(x_train[1:len(x_train)-150])\n",
    "y_train_float = np.array(y_train[1:len(y_train)-150])\n",
    "\n",
    "x_test_float =  np.array(x_train[-150:])\n",
    "y_test_float =  np.array(y_train[-150:])\n",
    "\n",
    "print(len(x_train_float))\n",
    "print(len(y_test_float))\n"
   ]
  },
  {
   "cell_type": "code",
   "execution_count": 4,
   "metadata": {},
   "outputs": [
    {
     "name": "stdout",
     "output_type": "stream",
     "text": [
      "110.2 194.056\n"
     ]
    }
   ],
   "source": [
    "x_max = np.amax(x_train_float)\n",
    "y_max = np.amax(y_train_float)\n",
    "x_train_float = x_train_float / x_max\n",
    "y_train_float = y_train_float / y_max\n",
    "\n",
    "print(x_max, y_max)"
   ]
  },
  {
   "cell_type": "code",
   "execution_count": 5,
   "metadata": {
    "scrolled": false
   },
   "outputs": [
    {
     "data": {
      "text/plain": [
       "Text(0.5, 0, 'x')"
      ]
     },
     "execution_count": 5,
     "metadata": {},
     "output_type": "execute_result"
    },
    {
     "data": {
      "image/png": "[encoded data removed]",
      "text/plain": [
       "<Figure size 432x288 with 1 Axes>"
      ]
     },
     "metadata": {
      "needs_background": "light"
     },
     "output_type": "display_data"
    }
   ],
   "source": [
    "\n",
    "plt.plot(x_train_float , y_train_float , 'o')\n",
    "plt.ylabel(\"y\")\n",
    "plt.xlabel(\"x\")"
   ]
  },
  {
   "cell_type": "markdown",
   "metadata": {},
   "source": [
    "## Network"
   ]
  },
  {
   "cell_type": "code",
   "execution_count": 6,
   "metadata": {
    "scrolled": true
   },
   "outputs": [
    {
     "name": "stdout",
     "output_type": "stream",
     "text": [
      "epoch: 2, loss = 0.00103\n",
      "epoch: 4, loss = 0.00066\n",
      "epoch: 6, loss = 0.00067\n",
      "epoch: 8, loss = 0.00067\n",
      "epoch: 10, loss = 0.00067\n",
      "epoch: 12, loss = 0.00067\n",
      "epoch: 14, loss = 0.00066\n"
     ]
    },
    {
     "data": {
      "text/plain": [
       "Text(0, 0.5, 'Loss')"
      ]
     },
     "execution_count": 6,
     "metadata": {},
     "output_type": "execute_result"
    },
    {
     "data": {
      "image/png": "[encoded data removed]",
      "text/plain": [
       "<Figure size 432x288 with 1 Axes>"
      ]
     },
     "metadata": {
      "needs_background": "light"
     },
     "output_type": "display_data"
    }
   ],
   "source": [
    "# 0) Prepare data\n",
    "\n",
    "X = torch.from_numpy(np.array(x_train_float, dtype='float32'))\n",
    "Y = torch.from_numpy(np.array(y_train_float, dtype='float32'))\n",
    "y = Y.view((Y.shape[0], 1))\n",
    "x  = X.view((X.shape[0], 1))\n",
    "\n",
    "# 1) Model\n",
    "\n",
    "input_size = 1\n",
    "output_size = 1\n",
    "#model = nn.Linear(input_size, output_size)\n",
    "\n",
    "class MyModelB(nn.Module):\n",
    "    def __init__(self):\n",
    "        super(MyModelB, self).__init__()\n",
    "        self.fc1 = nn.Linear(1, 4)\n",
    "        self.fc2 = nn.Linear(4 ,1)\n",
    "        \n",
    "    def forward(self, x):\n",
    "        x = F.relu(self.fc1(x))\n",
    "        x = F.relu(self.fc2(x))\n",
    "        return x\n",
    "    \n",
    "model = MyModelB()\n",
    "\n",
    "# 2) Loss and optimizer\n",
    "learning_rate = 0.001\n",
    "\n",
    "criterion = nn.MSELoss()\n",
    "optimizer = torch.optim.RMSprop(model.parameters(), lr=learning_rate)  \n",
    "\n",
    "\n",
    "# Batch Size \n",
    "Batch_size = 32\n",
    "Datset_size= len(X)\n",
    "\n",
    "iteration = Datset_size // Batch_size\n",
    "\n",
    "# 3) Training loop\n",
    "num_epochs = 15\n",
    "losses = []\n",
    "for epoch in range(num_epochs):\n",
    "    # Forward pass and loss\n",
    "\n",
    "    for i in range(iteration):\n",
    "        x_batch = x[i*Batch_size:i*Batch_size+ Batch_size]\n",
    "        y_batch = y[i*Batch_size:i*Batch_size+ Batch_size]\n",
    "        y_predicted = model(x_batch)\n",
    "        loss = criterion(y_predicted, y_batch)\n",
    "        losses.append(loss)\n",
    "\n",
    "        # Backward pass and update\n",
    "        loss.backward()\n",
    "        optimizer.step()\n",
    "        # zero grad before new step\n",
    "        optimizer.zero_grad()\n",
    "        #print('iteration_{}_loss_ {}'.format(i, loss))\n",
    "\n",
    "    if (epoch+1) % 2 == 0:\n",
    "            print(f'epoch: {epoch+1}, loss = {loss.item():.5f}')\n",
    "\n",
    "plt.plot(range(num_epochs*iteration), losses)\n",
    "plt.xlabel(\"epochs\")\n",
    "plt.ylabel(\"Loss\")"
   ]
  },
  {
   "cell_type": "markdown",
   "metadata": {},
   "source": [
    "## Evaluation\n"
   ]
  },
  {
   "cell_type": "code",
   "execution_count": 7,
   "metadata": {
    "scrolled": true
   },
   "outputs": [
    {
     "name": "stdout",
     "output_type": "stream",
     "text": [
      "tensor([3.6707], grad_fn=<DivBackward0>)\n"
     ]
    }
   ],
   "source": [
    "x_test = torch.from_numpy(np.array(x_test_float/x_max, dtype='float32'))\n",
    "x_test = x_test.view(x_test.shape[0],1)\n",
    "\n",
    "output = model.forward(x_test)\n",
    "output *= y_max\n",
    "\n",
    "total_loss = 0\n",
    "for index, sample in enumerate(output):\n",
    "    loss = abs(sample - y_test_float[index]) \n",
    "    #print(loss, sample, y_test_float[index])\n",
    "    \n",
    "    total_loss += loss\n",
    "mean_absolute_error = total_loss / len(output)\n",
    "print(mean_absolute_error)\n"
   ]
  },
  {
   "cell_type": "markdown",
   "metadata": {},
   "source": [
    "## Saving Model"
   ]
  },
  {
   "cell_type": "code",
   "execution_count": 8,
   "metadata": {
    "scrolled": true
   },
   "outputs": [
    {
     "name": "stdout",
     "output_type": "stream",
     "text": [
      "Directory  Trained_models/sitting_height_under18 Created\n"
     ]
    }
   ],
   "source": [
    "dirName = 'Trained_models/sitting_height_under18'\n",
    "PATH = 'Trained_models/sitting_height_under18/sitting_height_under18_{}'.format(mean_absolute_error.item())\n",
    "\n",
    "if not os.path.exists(dirName):\n",
    "    os.mkdir(dirName)\n",
    "    print(\"Directory \", dirName , \"Created\")\n",
    "else:    \n",
    "    print(\"Directory \", dirName , \"already exists\")\n",
    "        \n",
    "torch.save(model.state_dict(), PATH)\n",
    "#the_model = torch.load(PATH)"
   ]
  },
  {
   "cell_type": "markdown",
   "metadata": {},
   "source": [
    "## Average Loss with Pre-calculated weight"
   ]
  },
  {
   "cell_type": "code",
   "execution_count": 9,
   "metadata": {
    "scrolled": false
   },
   "outputs": [
    {
     "name": "stdout",
     "output_type": "stream",
     "text": [
      "101.012813333\n"
     ]
    }
   ],
   "source": [
    "C1 = 0.278\n",
    "C2 = 41.507\n",
    "total_loss = 0\n",
    "\n",
    "for index, femur in enumerate(x_test_float):\n",
    "    \n",
    "    height = (C1 * femur *10) + C2 \n",
    "    total_loss += abs(height- y_test_float[index])\n",
    "    #print(abs(height- y1[index]/10))\n",
    "    #print(knee_height, height, y1[index]/10)\n",
    "    \n",
    "print(total_loss/len(x_test_float))\n",
    "       "
   ]
  },
  {
   "cell_type": "code",
   "execution_count": null,
   "metadata": {
    "scrolled": true
   },
   "outputs": [],
   "source": [
    "state_dict = model.state_dict()\n",
    "for name, param in state_dict.items():\n",
    "    print(param.data)\n",
    "    \n"
   ]
  },
  {
   "cell_type": "code",
   "execution_count": 10,
   "metadata": {},
   "outputs": [
    {
     "data": {
      "text/plain": [
       "53.600000000000001"
      ]
     },
     "execution_count": 10,
     "metadata": {},
     "output_type": "execute_result"
    }
   ],
   "source": [
    "x_test_float[0]"
   ]
  },
  {
   "cell_type": "code",
   "execution_count": 11,
   "metadata": {},
   "outputs": [
    {
     "data": {
      "text/plain": [
       "92.201999999999998"
      ]
     },
     "execution_count": 11,
     "metadata": {},
     "output_type": "execute_result"
    }
   ],
   "source": [
    "y_test_float[0]"
   ]
  },
  {
   "cell_type": "code",
   "execution_count": 12,
   "metadata": {},
   "outputs": [
    {
     "data": {
      "text/plain": [
       "110.2"
      ]
     },
     "execution_count": 12,
     "metadata": {},
     "output_type": "execute_result"
    }
   ],
   "source": [
    "x_max\n"
   ]
  },
  {
   "cell_type": "code",
   "execution_count": 13,
   "metadata": {},
   "outputs": [
    {
     "data": {
      "text/plain": [
       "194.05600000000001"
      ]
     },
     "execution_count": 13,
     "metadata": {},
     "output_type": "execute_result"
    }
   ],
   "source": [
    "y_max"
   ]
  },
  {
   "cell_type": "code",
   "execution_count": null,
   "metadata": {},
   "outputs": [],
   "source": []
  }
 ],
 "metadata": {
  "kernelspec": {
   "display_name": "Python 3",
   "language": "python",
   "name": "python3"
  },
  "language_info": {
   "codemirror_mode": {
    "name": "ipython",
    "version": 3
   },
   "file_extension": ".py",
   "mimetype": "text/x-python",
   "name": "python",
   "nbconvert_exporter": "python",
   "pygments_lexer": "ipython3",
   "version": "3.6.10"
  }
 },
 "nbformat": 4,
 "nbformat_minor": 4
}
