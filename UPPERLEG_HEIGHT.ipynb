{
 "cells": [
  {
   "cell_type": "code",
   "execution_count": 1,
   "metadata": {},
   "outputs": [],
   "source": [
    "import torch\n",
    "import torch.nn as nn\n",
    "import torch.nn.functional as F\n",
    "import matplotlib.pyplot as plt\n",
    "import numpy as np\n",
    "import pandas as pd\n",
    "from time import time\n",
    "import numpy as np\n",
    "import os"
   ]
  },
  {
   "cell_type": "code",
   "execution_count": 2,
   "metadata": {},
   "outputs": [
    {
     "data": {
      "text/html": [
       "<div>\n",
       "<style scoped>\n",
       "    .dataframe tbody tr th:only-of-type {\n",
       "        vertical-align: middle;\n",
       "    }\n",
       "\n",
       "    .dataframe tbody tr th {\n",
       "        vertical-align: top;\n",
       "    }\n",
       "\n",
       "    .dataframe thead th {\n",
       "        text-align: right;\n",
       "    }\n",
       "</style>\n",
       "<table border=\"1\" class=\"dataframe\">\n",
       "  <thead>\n",
       "    <tr style=\"text-align: right;\">\n",
       "      <th></th>\n",
       "      <th>INDEX</th>\n",
       "      <th>HEIGHT</th>\n",
       "      <th>UPPER_LEG</th>\n",
       "    </tr>\n",
       "  </thead>\n",
       "  <tbody>\n",
       "    <tr>\n",
       "      <th>29078</th>\n",
       "      <td>102952</td>\n",
       "      <td>156.5</td>\n",
       "      <td>34.4</td>\n",
       "    </tr>\n",
       "    <tr>\n",
       "      <th>29079</th>\n",
       "      <td>102953</td>\n",
       "      <td>164.9</td>\n",
       "      <td>38.2</td>\n",
       "    </tr>\n",
       "    <tr>\n",
       "      <th>29080</th>\n",
       "      <td>102954</td>\n",
       "      <td>162.6</td>\n",
       "      <td>39.2</td>\n",
       "    </tr>\n",
       "    <tr>\n",
       "      <th>29081</th>\n",
       "      <td>102955</td>\n",
       "      <td>156.6</td>\n",
       "      <td>39.2</td>\n",
       "    </tr>\n",
       "    <tr>\n",
       "      <th>29082</th>\n",
       "      <td>102956</td>\n",
       "      <td>175.8</td>\n",
       "      <td>42.5</td>\n",
       "    </tr>\n",
       "  </tbody>\n",
       "</table>\n",
       "</div>"
      ],
      "text/plain": [
       "        INDEX HEIGHT UPPER_LEG\n",
       "29078  102952  156.5      34.4\n",
       "29079  102953  164.9      38.2\n",
       "29080  102954  162.6      39.2\n",
       "29081  102955  156.6      39.2\n",
       "29082  102956  175.8      42.5"
      ]
     },
     "execution_count": 2,
     "metadata": {},
     "output_type": "execute_result"
    }
   ],
   "source": [
    "import pandas as pd\n",
    "\n",
    "# Reading Dataset as pandas frame \n",
    "dataset_path ='data/nhannes.csv'\n",
    "column_names = ['INDEX', 'HEIGHT', 'UPPER_LEG']\n",
    "\n",
    "\n",
    "raw_dataset = pd.read_csv(dataset_path, names=column_names)\n",
    "\n",
    "dataset = raw_dataset.copy()\n",
    "dataset.tail()"
   ]
  },
  {
   "cell_type": "markdown",
   "metadata": {},
   "source": [
    "## Pre-Processing "
   ]
  },
  {
   "cell_type": "code",
   "execution_count": 3,
   "metadata": {},
   "outputs": [
    {
     "name": "stdout",
     "output_type": "stream",
     "text": [
      "26045 3000\n"
     ]
    }
   ],
   "source": [
    "x = dataset['UPPER_LEG']\n",
    "y = dataset['HEIGHT']\n",
    "\n",
    "\n",
    "# 29089\n",
    "\n",
    "x_train = []\n",
    "y_train = []\n",
    "\n",
    "# Fitering Outliers and saving data in arrays\n",
    "for index, value in enumerate(x):\n",
    "    if (value != 'upper_leg') and (float(value) > 10.0):\n",
    "        x_train.append(float(value))\n",
    "        y_train.append(float(y[index]))\n",
    "    \n",
    "# Splitting train data and slicing except last 3000 values for validation \n",
    "x_train_float = np.array(x_train[1:len(x_train)-3000])\n",
    "y_train_float = np.array(y_train[1:len(y_train)-3000])\n",
    "\n",
    "# Slicing last 3000 samples to evaluate on them later\n",
    "x_test_float =  np.array(x_train[-3000:])\n",
    "y_test_float =  np.array(y_train[-3000:])\n",
    "\n",
    "print(len(x_train_float), len(x_test_float))\n"
   ]
  },
  {
   "cell_type": "code",
   "execution_count": 4,
   "metadata": {},
   "outputs": [
    {
     "name": "stdout",
     "output_type": "stream",
     "text": [
      "55.5 204.1\n"
     ]
    }
   ],
   "source": [
    "# Normalizing values to be in range (0 - 1) \n",
    "x_max = np.amax(x_train_float)\n",
    "y_max = np.amax(y_train_float)\n",
    "x_train_float = x_train_float / x_max\n",
    "y_train_float = y_train_float / y_max\n",
    "\n",
    "print(x_max, y_max)"
   ]
  },
  {
   "cell_type": "code",
   "execution_count": 5,
   "metadata": {},
   "outputs": [
    {
     "data": {
      "text/plain": [
       "Text(0.5, 0, 'x')"
      ]
     },
     "execution_count": 5,
     "metadata": {},
     "output_type": "execute_result"
    },
    {
     "data": {
      "image/png": "[encoded data removed]",
      "text/plain": [
       "<Figure size 432x288 with 1 Axes>"
      ]
     },
     "metadata": {
      "needs_background": "light"
     },
     "output_type": "display_data"
    }
   ],
   "source": [
    "\n",
    "plt.plot(x_train_float , y_train_float , 'o')\n",
    "plt.ylabel(\"y\")\n",
    "plt.xlabel(\"x\")"
   ]
  },
  {
   "cell_type": "markdown",
   "metadata": {},
   "source": [
    "## Network"
   ]
  },
  {
   "cell_type": "code",
   "execution_count": 7,
   "metadata": {
    "scrolled": true
   },
   "outputs": [
    {
     "data": {
      "text/plain": [
       "Text(0, 0.5, 'Loss')"
      ]
     },
     "execution_count": 7,
     "metadata": {},
     "output_type": "execute_result"
    },
    {
     "data": {
      "image/png": "[encoded data removed]",
      "text/plain": [
       "<Figure size 432x288 with 1 Axes>"
      ]
     },
     "metadata": {
      "needs_background": "light"
     },
     "output_type": "display_data"
    }
   ],
   "source": [
    "# Converting numpy arrays to pytorch tensors for input\n",
    "\n",
    "X = torch.from_numpy(np.array(x_train_float, dtype='float32'))\n",
    "Y = torch.from_numpy(np.array(y_train_float, dtype='float32'))\n",
    "# Reshaping to a list of size (total samples, input SIZE) for input\n",
    "y = Y.view((Y.shape[0], 1))\n",
    "x  = X.view((X.shape[0], 1))\n",
    "\n",
    "# 1) Model\n",
    "\n",
    "input_size = 1\n",
    "output_size = 1\n",
    "\n",
    "\n",
    "\n",
    "# defining NN model \n",
    "class MyModelB(nn.Module):\n",
    "    def __init__(self):\n",
    "        super(MyModelB, self).__init__()\n",
    "        self.fc1 = nn.Linear(1, 4)\n",
    "        self.fc2 = nn.Linear(4 ,1)\n",
    "        \n",
    "    def forward(self, x):\n",
    "        x = F.relu(self.fc1(x))\n",
    "        x = F.relu(self.fc2(x))\n",
    "        return x\n",
    "\n",
    "# creatig a model   \n",
    "model = MyModelB()\n",
    "\n",
    "# 2) Loss and optimizer\n",
    "learning_rate = 0.001\n",
    "\n",
    "criterion = nn.MSELoss()\n",
    "optimizer = torch.optim.RMSprop(model.parameters(), lr=learning_rate)  \n",
    "\n",
    "\n",
    "# Batch Size \n",
    "Batch_size = 32\n",
    "Datset_size= len(X)\n",
    "\n",
    "iteration = Datset_size // Batch_size\n",
    "\n",
    "# 3) Training loop\n",
    "num_epochs = 0\n",
    "losses = []\n",
    "for epoch in range(num_epochs):\n",
    "    # Forward pass and loss\n",
    "\n",
    "    for i in range(iteration):\n",
    "        x_batch = x[i*Batch_size:i*Batch_size+ Batch_size]\n",
    "        y_batch = y[i*Batch_size:i*Batch_size+ Batch_size]\n",
    "        y_predicted = model(x_batch)\n",
    "        loss = criterion(y_predicted, y_batch)\n",
    "        losses.append(loss)\n",
    "\n",
    "        # Backward pass and update\n",
    "        loss.backward()\n",
    "        optimizer.step()\n",
    "        # zero grad before new step\n",
    "        optimizer.zero_grad()\n",
    "        #print('iteration_{}_loss_ {}'.format(i, loss))\n",
    "\n",
    "    if (epoch+1) % 2 == 0:\n",
    "            print(f'epoch: {epoch+1}, loss = {loss.item():.5f}')\n",
    "\n",
    "plt.plot(range(num_epochs*iteration), losses)\n",
    "plt.xlabel(\"epochs\")\n",
    "plt.ylabel(\"Loss\")"
   ]
  },
  {
   "cell_type": "markdown",
   "metadata": {},
   "source": [
    "## Evaluation\n"
   ]
  },
  {
   "cell_type": "code",
   "execution_count": 8,
   "metadata": {},
   "outputs": [
    {
     "name": "stdout",
     "output_type": "stream",
     "text": [
      "tensor([163.2626], grad_fn=<DivBackward0>)\n"
     ]
    }
   ],
   "source": [
    "# Evaluating using Mean Absolute Error\n",
    "# scaling test data also between 0-1 to generate result (as the model was also trained with data scaled in range 0-1)\n",
    "\n",
    "x_test = torch.from_numpy(np.array(x_test_float/x_max, dtype='float32'))\n",
    "\n",
    "# Predicting results on the test batch\n",
    "x_test = x_test.view(x_test.shape[0],1)\n",
    "\n",
    "output = model.forward(x_test)\n",
    "\n",
    "# Up-scaling output to real size\n",
    "output *= y_max\n",
    "\n",
    "\n",
    "# Calculating loss in each test sample and accumlating over all the test set.\n",
    "total_loss = 0\n",
    "for index, sample in enumerate(output):\n",
    "    loss = abs(sample - y_test_float[index]) \n",
    "    #print(loss, sample, y_test_float[index])\n",
    "    \n",
    "    total_loss += loss\n",
    "mean_absolute_error = total_loss / len(output)\n",
    "print(mean_absolute_error)\n"
   ]
  },
  {
   "cell_type": "code",
   "execution_count": 16,
   "metadata": {},
   "outputs": [
    {
     "name": "stdout",
     "output_type": "stream",
     "text": [
      "tensor([7.3763], grad_fn=<SqrtBackward>)\n"
     ]
    }
   ],
   "source": [
    "# Evaluating using Mean Squared Error\n",
    "# scaling test data also between 0-1 to generate result (as the model was also trained with data scaled in range 0-1)\n",
    "x_test = torch.from_numpy(np.array(x_test_float/x_max, dtype='float32'))\n",
    "output = model.forward(x_test)\n",
    "\n",
    "#Up-scaling to original values\n",
    "output *= y_max\n",
    "\n",
    "# Accumulating loss over all the test samples\n",
    "total_loss = 0\n",
    "for index, sample in enumerate(output):\n",
    "    loss = torch.square(sample - y_test_float[index]) \n",
    "    #print(loss, sample, y_test_float[index])\n",
    "    \n",
    "    total_loss += loss\n",
    "mean_absolute_error = total_loss / len(output)\n",
    "print(torch.sqrt(mean_absolute_error))"
   ]
  },
  {
   "cell_type": "markdown",
   "metadata": {},
   "source": [
    "## Saving Model"
   ]
  },
  {
   "cell_type": "code",
   "execution_count": 29,
   "metadata": {
    "scrolled": true
   },
   "outputs": [
    {
     "name": "stdout",
     "output_type": "stream",
     "text": [
      "Directory  Trained_models/upper_leg_model_pytorch_  already exists\n"
     ]
    }
   ],
   "source": [
    "# Saving Trained Model\n",
    "\n",
    "dirName = 'Trained_models/upper_leg_model_pytorch_'\n",
    "PATH = 'Trained_models/upper_leg_model_pytorch_/upper_leg_{}'.format(mean_absolute_error.item())\n",
    "\n",
    "if not os.path.exists(dirName):\n",
    "    os.mkdir(dirName)\n",
    "    print(\"Directory \" , dirName ,  \" Created \")\n",
    "else:    \n",
    "    print(\"Directory \" , dirName ,  \" already exists\")\n",
    "        \n",
    "torch.save(model.state_dict(), PATH)\n",
    "#the_model = torch.load(PATH)"
   ]
  },
  {
   "cell_type": "markdown",
   "metadata": {},
   "source": [
    "## Average Loss with Pre-calculated weight\n"
   ]
  },
  {
   "cell_type": "code",
   "execution_count": 9,
   "metadata": {},
   "outputs": [
    {
     "name": "stdout",
     "output_type": "stream",
     "text": [
      "14.615808\n"
     ]
    }
   ],
   "source": [
    "# Parameters from paper to reconstruct height\n",
    "\n",
    "C1 = 0.278\n",
    "C2 = 41.507\n",
    "total_loss = 0\n",
    "\n",
    "\n",
    "# Accumulating loss over all the test samples\n",
    "for index, femur in enumerate(x_test_float):\n",
    "    \n",
    "    height = (C1 * femur *10) + C2 \n",
    "    total_loss += abs(height- y_test_float[index])\n",
    "    #print(abs(height- y1[index]/10))\n",
    "    #print(knee_height, height, y1[index]/10)\n",
    "    \n",
    "print(total_loss/len(x_test_float))\n",
    "       "
   ]
  }
 ],
 "metadata": {
  "kernelspec": {
   "display_name": "Python 3",
   "language": "python",
   "name": "python3"
  },
  "language_info": {
   "codemirror_mode": {
    "name": "ipython",
    "version": 3
   },
   "file_extension": ".py",
   "mimetype": "text/x-python",
   "name": "python",
   "nbconvert_exporter": "python",
   "pygments_lexer": "ipython3",
   "version": "3.6.10"
  }
 },
 "nbformat": 4,
 "nbformat_minor": 4
}
