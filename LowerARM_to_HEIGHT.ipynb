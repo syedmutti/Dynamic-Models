{
 "cells": [
  {
   "cell_type": "code",
   "execution_count": 1,
   "metadata": {},
   "outputs": [],
   "source": [
    "import torch\n",
    "import torch.nn as nn\n",
    "import torch.nn.functional as F\n",
    "import matplotlib.pyplot as plt\n",
    "import numpy as np\n",
    "import pandas as pd\n",
    "from time import time\n",
    "import numpy as np\n",
    "import os"
   ]
  },
  {
   "cell_type": "code",
   "execution_count": 2,
   "metadata": {
    "scrolled": true
   },
   "outputs": [
    {
     "name": "stdout",
     "output_type": "stream",
     "text": [
      "[ 261.3187135   250.57740529  246.48061885 ...,  237.53848696  252.12656513\n",
      "  248.16846356]\n"
     ]
    }
   ],
   "source": [
    "\n",
    "# Mean Value (Average Humerus length, and Standard deviation )\n",
    "mu , sigma = 250, 7\n",
    "\n",
    "# Sampling 15000 samples from the defined distribution\n",
    "x_train_ulna = np.random.normal(mu, sigma, 15000)\n",
    "\n",
    "\n",
    "#Adding random noise to data to improve stochasticity \n",
    "noise = np.random.normal(0, 5, x_train_ulna.shape)\n",
    "x_train_ulna = x_train_ulna + noise\n",
    "\n",
    "print(x_train_ulna)\n"
   ]
  },
  {
   "cell_type": "code",
   "execution_count": 3,
   "metadata": {},
   "outputs": [
    {
     "name": "stdout",
     "output_type": "stream",
     "text": [
      "15000\n"
     ]
    }
   ],
   "source": [
    "# C1 * Bone_length +  C2 = Height\n",
    "\n",
    "#ULNA \n",
    "\n",
    "c1_ulna = 0.465 \n",
    "c2_ulna = 61.610\n",
    "\n",
    "def calculate_height(c1, c2, bone_length):\n",
    "    \n",
    "    return (c1* bone_length) + c2\n",
    "\n",
    "# Generating GT label(Height) from random   \n",
    "# Height corresponding to random bone length samples\n",
    "y_train_ulna = []\n",
    "for index, x in enumerate(x_train_ulna):\n",
    "    y = calculate_height(c1_ulna, c2_ulna, x) + noise[index]\n",
    "    \n",
    "    y_train_ulna.append(y)\n",
    "    \n",
    "print(len(y_train_ulna))"
   ]
  },
  {
   "cell_type": "markdown",
   "metadata": {},
   "source": [
    "## Pre-Processing "
   ]
  },
  {
   "cell_type": "code",
   "execution_count": 4,
   "metadata": {},
   "outputs": [
    {
     "name": "stdout",
     "output_type": "stream",
     "text": [
      "3000\n",
      "3000\n"
     ]
    }
   ],
   "source": [
    "x_train = x_train_ulna\n",
    "y_train = y_train_ulna\n",
    "    \n",
    "# Splitting train data and slicing except last 3000 values for validation  \n",
    "x_train_float = np.array(x_train[1:len(x_train)-3000])\n",
    "y_train_float = np.array(y_train[1:len(y_train)-3000])\n",
    "\n",
    "\n",
    "# Slicing last 3000 samples to evaluate on them later\n",
    "x_test_float =  np.array(x_train[-3000:])\n",
    "y_test_float =  np.array(y_train[-3000:])\n",
    "\n",
    "print(len(x_test_float))\n",
    "print(len(y_test_float))\n"
   ]
  },
  {
   "cell_type": "code",
   "execution_count": 5,
   "metadata": {},
   "outputs": [
    {
     "name": "stdout",
     "output_type": "stream",
     "text": [
      "283.735728213 213.077702971\n"
     ]
    }
   ],
   "source": [
    "# Normalizing values to be in range (0 - 1) \n",
    "\n",
    "x_max = np.amax(x_train_float)\n",
    "y_max = np.amax(y_train_float)\n",
    "x_train_float = x_train_float / x_max\n",
    "y_train_float = y_train_float / y_max\n",
    "\n",
    "print(x_max, y_max)"
   ]
  },
  {
   "cell_type": "code",
   "execution_count": 6,
   "metadata": {},
   "outputs": [
    {
     "data": {
      "text/plain": [
       "Text(0.5, 0, 'x')"
      ]
     },
     "execution_count": 6,
     "metadata": {},
     "output_type": "execute_result"
    },
    {
     "data": {
      "image/png": "[encoded data removed]",
      "text/plain": [
       "<Figure size 432x288 with 1 Axes>"
      ]
     },
     "metadata": {
      "needs_background": "light"
     },
     "output_type": "display_data"
    }
   ],
   "source": [
    "# Data Visualisation\n",
    "# Plotting Sampled Data against height\n",
    "\n",
    "plt.plot(x_train_float , y_train_float , 'o')\n",
    "plt.ylabel(\"y\")\n",
    "plt.xlabel(\"x\")"
   ]
  },
  {
   "cell_type": "markdown",
   "metadata": {},
   "source": [
    "## Network"
   ]
  },
  {
   "cell_type": "code",
   "execution_count": 7,
   "metadata": {
    "scrolled": true
   },
   "outputs": [
    {
     "data": {
      "text/plain": [
       "Text(0, 0.5, 'Loss')"
      ]
     },
     "execution_count": 7,
     "metadata": {},
     "output_type": "execute_result"
    },
    {
     "data": {
      "image/png": "[encoded data removed]",
      "text/plain": [
       "<Figure size 432x288 with 1 Axes>"
      ]
     },
     "metadata": {
      "needs_background": "light"
     },
     "output_type": "display_data"
    }
   ],
   "source": [
    "# 0) Prepare data\n",
    "# Converting numpy arrays to pytorch tensors for input\n",
    "\n",
    "X = torch.from_numpy(np.array(x_train_float, dtype='float32'))\n",
    "Y = torch.from_numpy(np.array(y_train_float, dtype='float32'))\n",
    "\n",
    "\n",
    "# Reshaping to a list of size (total samples, input SIZE) for input\n",
    "y = Y.view((Y.shape[0], 1))\n",
    "x  = X.view((X.shape[0], 1))\n",
    "\n",
    "# 1) Model\n",
    "\n",
    "input_size = 1\n",
    "output_size = 1\n",
    "\n",
    "# defining NN model \n",
    "class MyModelB(nn.Module):\n",
    "    def __init__(self):\n",
    "        super(MyModelB, self).__init__()\n",
    "        self.fc1 = nn.Linear(1, 4)\n",
    "        self.fc2 = nn.Linear(4 ,1)\n",
    "        \n",
    "    def forward(self, x):\n",
    "        x = F.relu(self.fc1(x))\n",
    "        x = F.relu(self.fc2(x))\n",
    "        return x\n",
    "    \n",
    "# creatig a model\n",
    "model = MyModelB()\n",
    "\n",
    "# 2) Loss and optimizer\n",
    "learning_rate = 0.001\n",
    "\n",
    "criterion = nn.MSELoss()\n",
    "optimizer = torch.optim.RMSprop(model.parameters(), lr=learning_rate)  \n",
    "\n",
    "\n",
    "# Batch Size \n",
    "Batch_size = 32\n",
    "Datset_size= len(X)\n",
    "\n",
    "iteration = Datset_size // Batch_size\n",
    "\n",
    "# 3) Training loop\n",
    "num_epochs = 0\n",
    "losses = []\n",
    "for epoch in range(num_epochs):\n",
    "    # Forward pass and loss\n",
    "\n",
    "    for i in range(iteration):\n",
    "        x_batch = x[i*Batch_size:i*Batch_size+ Batch_size]\n",
    "        y_batch = y[i*Batch_size:i*Batch_size+ Batch_size]\n",
    "        y_predicted = model(x_batch)\n",
    "        loss = criterion(y_predicted, y_batch)\n",
    "        losses.append(loss)\n",
    "\n",
    "        # Backward pass and update\n",
    "        loss.backward()\n",
    "        optimizer.step()\n",
    "        # zero grad before new step\n",
    "        optimizer.zero_grad()\n",
    "        #print('iteration_{}_loss_ {}'.format(i, loss))\n",
    "\n",
    "    if (epoch+1) % 2 == 0:\n",
    "            print(f'epoch: {epoch+1}, loss = {loss.item():.5f}')\n",
    "\n",
    "plt.plot(range(num_epochs*iteration), losses)\n",
    "plt.xlabel(\"epochs\")\n",
    "plt.ylabel(\"Loss\")"
   ]
  },
  {
   "cell_type": "markdown",
   "metadata": {},
   "source": [
    "## Evaluation\n"
   ]
  },
  {
   "cell_type": "code",
   "execution_count": 20,
   "metadata": {},
   "outputs": [
    {
     "name": "stdout",
     "output_type": "stream",
     "text": [
      "tensor([6.1520], grad_fn=<DivBackward0>)\n"
     ]
    }
   ],
   "source": [
    "# Evaluating using Mean Absolute Error\n",
    "# scaling test data also between 0-1 to generate result (as the model was also trained with data scaled in range 0-1)\n",
    "\n",
    "x_test = torch.from_numpy(np.array(x_test_float/x_max, dtype='float32'))\n",
    "x_test = x_test.view(x_test.shape[0],1)\n",
    "\n",
    "#Passing test samples through model\n",
    "output = model.forward(x_test)\n",
    "\n",
    "# Up-scaling output to real size\n",
    "output *= y_max\n",
    "\n",
    "\n",
    "\n",
    "# Calculating loss in each test sample and accumlating over all the test set.\n",
    "total_loss = 0\n",
    "for index, sample in enumerate(output):\n",
    "    loss = abs(sample - y_test_float[index]) \n",
    "    #print(loss, sample, y_test_float[index])\n",
    "    \n",
    "    total_loss += loss\n",
    "mean_absolute_error = total_loss / len(output)\n",
    "print(mean_absolute_error)\n"
   ]
  },
  {
   "cell_type": "code",
   "execution_count": 19,
   "metadata": {},
   "outputs": [
    {
     "name": "stdout",
     "output_type": "stream",
     "text": [
      "tensor([7.1857], grad_fn=<SqrtBackward>)\n"
     ]
    }
   ],
   "source": [
    "# Evaluating using Mean Squared Error\n",
    "\n",
    "# Passing data through trained model\n",
    "output = model.forward(x_test)\n",
    "\n",
    "output *= y_max\n",
    "\n",
    "total_loss = 0\n",
    "for index, sample in enumerate(output):\n",
    "    loss = torch.square(sample - y_test_float[index]) \n",
    "    #print(loss, sample, y_test_float[index])\n",
    "    \n",
    "    total_loss += loss\n",
    "mean_absolute_error = total_loss / len(output)\n",
    "print(torch.sqrt(mean_absolute_error))\n"
   ]
  },
  {
   "cell_type": "markdown",
   "metadata": {},
   "source": [
    "## Saving Model"
   ]
  },
  {
   "cell_type": "code",
   "execution_count": 10,
   "metadata": {
    "scrolled": true
   },
   "outputs": [
    {
     "name": "stdout",
     "output_type": "stream",
     "text": [
      "Directory  Trained_models/lower_arm_pytorch_  already exists\n"
     ]
    }
   ],
   "source": [
    "# Saving Trained Model\n",
    "\n",
    "dirName = 'Trained_models/lower_arm_pytorch_'\n",
    "PATH = 'Trained_models/lower_arm_pytorch_/lower_arm_pytorch_{}'.format(mean_absolute_error.item())\n",
    "\n",
    "if not os.path.exists(dirName):\n",
    "    os.mkdir(dirName)\n",
    "    print(\"Directory \" , dirName ,  \" Created \")\n",
    "else:    \n",
    "    print(\"Directory \" , dirName ,  \" already exists\")\n",
    "        \n",
    "#torch.save(model.state_dict(), PATH)\n",
    "#the_model = torch.load(PATH)"
   ]
  }
 ],
 "metadata": {
  "kernelspec": {
   "display_name": "Python 3",
   "language": "python",
   "name": "python3"
  },
  "language_info": {
   "codemirror_mode": {
    "name": "ipython",
    "version": 3
   },
   "file_extension": ".py",
   "mimetype": "text/x-python",
   "name": "python",
   "nbconvert_exporter": "python",
   "pygments_lexer": "ipython3",
   "version": "3.6.10"
  }
 },
 "nbformat": 4,
 "nbformat_minor": 4
}
