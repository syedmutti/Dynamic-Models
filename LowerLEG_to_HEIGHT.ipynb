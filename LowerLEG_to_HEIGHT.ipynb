{
 "cells": [
  {
   "cell_type": "code",
   "execution_count": 1,
   "metadata": {},
   "outputs": [],
   "source": [
    "import torch\n",
    "import torch.nn as nn\n",
    "import torch.nn.functional as F\n",
    "import matplotlib.pyplot as plt\n",
    "import numpy as np\n",
    "import pandas as pd\n",
    "from time import time\n",
    "import numpy as np\n",
    "import os"
   ]
  },
  {
   "cell_type": "code",
   "execution_count": 2,
   "metadata": {
    "scrolled": true
   },
   "outputs": [
    {
     "data": {
      "text/html": [
       "<div>\n",
       "<style scoped>\n",
       "    .dataframe tbody tr th:only-of-type {\n",
       "        vertical-align: middle;\n",
       "    }\n",
       "\n",
       "    .dataframe tbody tr th {\n",
       "        vertical-align: top;\n",
       "    }\n",
       "\n",
       "    .dataframe thead th {\n",
       "        text-align: right;\n",
       "    }\n",
       "</style>\n",
       "<table border=\"1\" class=\"dataframe\">\n",
       "  <thead>\n",
       "    <tr style=\"text-align: right;\">\n",
       "      <th></th>\n",
       "      <th>gender</th>\n",
       "      <th>butt_height</th>\n",
       "      <th>buttock-knee_length</th>\n",
       "      <th>buttock-popliteal_length</th>\n",
       "      <th>crotch_height</th>\n",
       "      <th>knee_height_midpatella</th>\n",
       "      <th>knee_height_sitting</th>\n",
       "      <th>lateral-femoral_epicondyle_height</th>\n",
       "      <th>popliteal_height</th>\n",
       "      <th>stature</th>\n",
       "      <th>trochanterion_height</th>\n",
       "      <th>wrist_height</th>\n",
       "    </tr>\n",
       "  </thead>\n",
       "  <tbody>\n",
       "    <tr>\n",
       "      <th>3978</th>\n",
       "      <td>m</td>\n",
       "      <td>808</td>\n",
       "      <td>574</td>\n",
       "      <td>456</td>\n",
       "      <td>755</td>\n",
       "      <td>449</td>\n",
       "      <td>507</td>\n",
       "      <td>452</td>\n",
       "      <td>385</td>\n",
       "      <td>1674</td>\n",
       "      <td>836</td>\n",
       "      <td>822</td>\n",
       "    </tr>\n",
       "    <tr>\n",
       "      <th>3979</th>\n",
       "      <td>m</td>\n",
       "      <td>943</td>\n",
       "      <td>644</td>\n",
       "      <td>531</td>\n",
       "      <td>894</td>\n",
       "      <td>530</td>\n",
       "      <td>586</td>\n",
       "      <td>533</td>\n",
       "      <td>477</td>\n",
       "      <td>1822</td>\n",
       "      <td>970</td>\n",
       "      <td>915</td>\n",
       "    </tr>\n",
       "    <tr>\n",
       "      <th>3980</th>\n",
       "      <td>m</td>\n",
       "      <td>831</td>\n",
       "      <td>600</td>\n",
       "      <td>486</td>\n",
       "      <td>798</td>\n",
       "      <td>470</td>\n",
       "      <td>530</td>\n",
       "      <td>481</td>\n",
       "      <td>410</td>\n",
       "      <td>1708</td>\n",
       "      <td>867</td>\n",
       "      <td>824</td>\n",
       "    </tr>\n",
       "    <tr>\n",
       "      <th>3981</th>\n",
       "      <td>m</td>\n",
       "      <td>892</td>\n",
       "      <td>626</td>\n",
       "      <td>515</td>\n",
       "      <td>846</td>\n",
       "      <td>527</td>\n",
       "      <td>585</td>\n",
       "      <td>530</td>\n",
       "      <td>450</td>\n",
       "      <td>1745</td>\n",
       "      <td>922</td>\n",
       "      <td>818</td>\n",
       "    </tr>\n",
       "    <tr>\n",
       "      <th>3982</th>\n",
       "      <td>m</td>\n",
       "      <td>808</td>\n",
       "      <td>572</td>\n",
       "      <td>468</td>\n",
       "      <td>793</td>\n",
       "      <td>459</td>\n",
       "      <td>508</td>\n",
       "      <td>463</td>\n",
       "      <td>400</td>\n",
       "      <td>1630</td>\n",
       "      <td>854</td>\n",
       "      <td>777</td>\n",
       "    </tr>\n",
       "  </tbody>\n",
       "</table>\n",
       "</div>"
      ],
      "text/plain": [
       "     gender butt_height buttock-knee_length buttock-popliteal_length  \\\n",
       "3978      m         808                 574                      456   \n",
       "3979      m         943                 644                      531   \n",
       "3980      m         831                 600                      486   \n",
       "3981      m         892                 626                      515   \n",
       "3982      m         808                 572                      468   \n",
       "\n",
       "     crotch_height knee_height_midpatella knee_height_sitting  \\\n",
       "3978           755                    449                 507   \n",
       "3979           894                    530                 586   \n",
       "3980           798                    470                 530   \n",
       "3981           846                    527                 585   \n",
       "3982           793                    459                 508   \n",
       "\n",
       "     lateral-femoral_epicondyle_height popliteal_height stature  \\\n",
       "3978                               452              385    1674   \n",
       "3979                               533              477    1822   \n",
       "3980                               481              410    1708   \n",
       "3981                               530              450    1745   \n",
       "3982                               463              400    1630   \n",
       "\n",
       "     trochanterion_height wrist_height  \n",
       "3978                  836          822  \n",
       "3979                  970          915  \n",
       "3980                  867          824  \n",
       "3981                  922          818  \n",
       "3982                  854          777  "
      ]
     },
     "execution_count": 2,
     "metadata": {},
     "output_type": "execute_result"
    }
   ],
   "source": [
    "import pandas as pd\n",
    "\n",
    "# Reading Dataset as pandas frame \n",
    "dataset_path ='data/ansur_result.csv'\n",
    "column_names = column_names = ['gender','butt_height','buttock-knee_length','buttock-popliteal_length',\n",
    "                               'crotch_height','knee_height_midpatella','knee_height_sitting', \n",
    "                               'lateral-femoral_epicondyle_height', 'popliteal_height',\n",
    "                               'stature', 'trochanterion_height', 'wrist_height' ]\n",
    "\n",
    "\n",
    "raw_dataset = pd.read_csv(dataset_path, names=column_names)\n",
    "\n",
    "dataset = raw_dataset.copy()\n",
    "dataset.tail()"
   ]
  },
  {
   "cell_type": "markdown",
   "metadata": {},
   "source": [
    "## Pre-Processing "
   ]
  },
  {
   "cell_type": "code",
   "execution_count": 3,
   "metadata": {},
   "outputs": [
    {
     "name": "stdout",
     "output_type": "stream",
     "text": [
      "(3878, 1500)\n"
     ]
    }
   ],
   "source": [
    "x = dataset['knee_height_midpatella']\n",
    "y = dataset['stature']\n",
    "\n",
    "x_train = []\n",
    "y_pred = []\n",
    "\n",
    "\n",
    "# Fitering Outliers and saving data in arrays\n",
    "for index, value in enumerate(x):\n",
    "    if (value != 'knee_height_midpatella') and float(value) > 375 and float(value) < 600 :\n",
    "        x_train.append(float(value))\n",
    "        y_pred.append(float(y[index]))\n",
    "    \n",
    "\n",
    "# Splitting train data and slicing except last 1500 values for validation      \n",
    "x_train_float = np.array(x_train[1:len(x_train)-1500])\n",
    "y_train_float = np.array(y_pred[1:len(y_pred)-1500])\n",
    "\n",
    "\n",
    "x1 = x_train_float\n",
    "y1 = y_train_float\n",
    "\n",
    "# Slicing last 1500 samples to evaluate on them later\n",
    "x_test_float =  np.array(x_train[-1500:])\n",
    "y_test_float =  np.array(y_pred[-1500:])\n",
    "\n",
    "print((len(x_train_float), len(x_test_float)))\n",
    "\n"
   ]
  },
  {
   "cell_type": "code",
   "execution_count": 4,
   "metadata": {},
   "outputs": [
    {
     "name": "stdout",
     "output_type": "stream",
     "text": [
      "592.0 1955.0\n"
     ]
    },
    {
     "data": {
      "text/plain": [
       "Text(0.5, 0, 'x')"
      ]
     },
     "execution_count": 4,
     "metadata": {},
     "output_type": "execute_result"
    },
    {
     "data": {
      "image/png": "[encoded data removed]",
      "text/plain": [
       "<Figure size 432x288 with 1 Axes>"
      ]
     },
     "metadata": {
      "needs_background": "light"
     },
     "output_type": "display_data"
    }
   ],
   "source": [
    "# Normalizing values to be in range (0 - 1) \n",
    "x_max = np.amax(x_train_float)\n",
    "y_max = np.amax(y_train_float)\n",
    "x_train_float = x_train_float / x_max\n",
    "y_train_float = y_train_float / y_max\n",
    "\n",
    "print(x_max, y_max)\n",
    "\n",
    "plt.plot(x_train_float, y_train_float, 'o')\n",
    "plt.ylabel(\"y\")\n",
    "plt.xlabel(\"x\")"
   ]
  },
  {
   "cell_type": "markdown",
   "metadata": {},
   "source": [
    "## Network"
   ]
  },
  {
   "cell_type": "code",
   "execution_count": 5,
   "metadata": {
    "scrolled": true
   },
   "outputs": [
    {
     "name": "stdout",
     "output_type": "stream",
     "text": [
      "torch.Size([3878]) torch.Size([3878])\n",
      "epoch: 2, loss = 0.00123\n",
      "epoch: 4, loss = 0.00105\n"
     ]
    },
    {
     "data": {
      "text/plain": [
       "Text(0, 0.5, 'Loss')"
      ]
     },
     "execution_count": 5,
     "metadata": {},
     "output_type": "execute_result"
    },
    {
     "data": {
      "image/png": "[encoded data removed]",
      "text/plain": [
       "<Figure size 432x288 with 1 Axes>"
      ]
     },
     "metadata": {
      "needs_background": "light"
     },
     "output_type": "display_data"
    }
   ],
   "source": [
    "# Converting numpy arrays to pytorch tensors for input\n",
    "\n",
    "X = torch.from_numpy(np.array(x_train_float, dtype='float32'))\n",
    "Y = torch.from_numpy(np.array(y_train_float, dtype='float32'))\n",
    "print(Y.shape, X.shape)\n",
    "\n",
    "# Reshaping to a list of size (total samples, input SIZE) for input\n",
    "x = X.view((X.shape[0], 1))\n",
    "y = Y.view((Y.shape[0], 1))\n",
    "\n",
    "\n",
    "# defining NN model \n",
    "class MyModelA(nn.Module):\n",
    "    def __init__(self):\n",
    "        super(MyModelA, self).__init__()\n",
    "        self.fc1 = nn.Linear(1, 4)\n",
    "        self.fc2 = nn.Linear(4, 1)\n",
    "        \n",
    "    def forward(self, x):\n",
    "        x = F.relu(self.fc1(x))\n",
    "        x = F.relu(self.fc2(x))\n",
    "        return x\n",
    "    \n",
    "    \n",
    "# creatig a model\n",
    "model = MyModelA()\n",
    "\n",
    "# Loss and optimizer\n",
    "learning_rate = 0.001\n",
    "\n",
    "criterion = nn.MSELoss()\n",
    "optimizer = torch.optim.RMSprop(model.parameters(), lr=learning_rate)  \n",
    "\n",
    "# Batch Size \n",
    "Batch_size = 32\n",
    "Datset_size= len(X)\n",
    "\n",
    "\n",
    "iteration = Datset_size // Batch_size\n",
    "\n",
    "# 3) Training loop\n",
    "num_epochs = 5\n",
    "losses = []\n",
    "for epoch in range(num_epochs):\n",
    "    # Forward pass and loss\n",
    "\n",
    "    for i in range(iteration):\n",
    "        x_batch = x[i*Batch_size:i*Batch_size+ Batch_size]\n",
    "        y_batch = y[i*Batch_size:i*Batch_size+ Batch_size]\n",
    "        y_predicted = model(x_batch)\n",
    "        loss = criterion(y_predicted, y_batch)\n",
    "        losses.append(loss)\n",
    "\n",
    "        # Backward pass and update\n",
    "        loss.backward()\n",
    "        optimizer.step()\n",
    "        # zero grad before new step\n",
    "        optimizer.zero_grad()\n",
    "        #print('iteration_{}_loss_ {}'.format(i, loss))\n",
    "\n",
    "    if (epoch+1) % 2 == 0:\n",
    "        print(f'epoch: {epoch+1}, loss = {loss.item():.5f}')\n",
    "\n",
    "plt.plot(range(num_epochs*iteration), losses)\n",
    "plt.xlabel(\"epochs\")\n",
    "plt.ylabel(\"Loss\")\n",
    "        \n",
    "# Plot\n",
    "#predicted = model(X).detach().numpy()\n"
   ]
  },
  {
   "cell_type": "markdown",
   "metadata": {},
   "source": [
    "## Evaluation\n"
   ]
  },
  {
   "cell_type": "code",
   "execution_count": 6,
   "metadata": {
    "scrolled": true
   },
   "outputs": [
    {
     "name": "stdout",
     "output_type": "stream",
     "text": [
      "tensor([4.5752], grad_fn=<DivBackward0>)\n"
     ]
    }
   ],
   "source": [
    "# Evaluating using Mean Absolute Error\n",
    "# scaling test data also between 0-1 to generate result (as the model was also trained with data scaled in range 0-1)\n",
    "x_test = torch.from_numpy(np.array(x_test_float/x_max, dtype='float32'))\n",
    "output = model.forward(x_test.view(x_test.shape[0],1))\n",
    "\n",
    "\n",
    "# Up-scaling output to real size\n",
    "output *= y_max\n",
    "\n",
    "# Calculating loss in each test sample and accumlating over all the test set.\n",
    "total_loss = 0\n",
    "for index, sample in enumerate(output):\n",
    "    loss = abs(sample - y_test_float[index])\n",
    "    #print(loss, sample, y_test_float[index])\n",
    "    \n",
    "    total_loss += loss/10\n",
    "\n",
    "mean_absolute_error = total_loss / len(output)\n",
    "print(mean_absolute_error)\n"
   ]
  },
  {
   "cell_type": "code",
   "execution_count": 8,
   "metadata": {},
   "outputs": [
    {
     "ename": "RuntimeError",
     "evalue": "size mismatch, m1: [1 x 1500], m2: [1 x 4] at C:\\cb\\pytorch_1000000000000\\work\\aten\\src\\TH/generic/THTensorMath.cpp:41",
     "output_type": "error",
     "traceback": [
      "\u001b[1;31m---------------------------------------------------------------------------\u001b[0m",
      "\u001b[1;31mRuntimeError\u001b[0m                              Traceback (most recent call last)",
      "\u001b[1;32m<ipython-input-8-7de5bf624de7>\u001b[0m in \u001b[0;36m<module>\u001b[1;34m\u001b[0m\n\u001b[0;32m      1\u001b[0m \u001b[0mx_test\u001b[0m \u001b[1;33m=\u001b[0m \u001b[0mtorch\u001b[0m\u001b[1;33m.\u001b[0m\u001b[0mfrom_numpy\u001b[0m\u001b[1;33m(\u001b[0m\u001b[0mnp\u001b[0m\u001b[1;33m.\u001b[0m\u001b[0marray\u001b[0m\u001b[1;33m(\u001b[0m\u001b[0mx_test_float\u001b[0m\u001b[1;33m/\u001b[0m\u001b[0mx_max\u001b[0m\u001b[1;33m,\u001b[0m \u001b[0mdtype\u001b[0m\u001b[1;33m=\u001b[0m\u001b[1;34m'float32'\u001b[0m\u001b[1;33m)\u001b[0m\u001b[1;33m)\u001b[0m\u001b[1;33m\u001b[0m\u001b[1;33m\u001b[0m\u001b[0m\n\u001b[1;32m----> 2\u001b[1;33m \u001b[0moutput\u001b[0m \u001b[1;33m=\u001b[0m \u001b[0mmodel\u001b[0m\u001b[1;33m.\u001b[0m\u001b[0mforward\u001b[0m\u001b[1;33m(\u001b[0m\u001b[0mx_test\u001b[0m\u001b[1;33m)\u001b[0m\u001b[1;33m\u001b[0m\u001b[1;33m\u001b[0m\u001b[0m\n\u001b[0m\u001b[0;32m      3\u001b[0m \u001b[0moutput\u001b[0m \u001b[1;33m*=\u001b[0m \u001b[0my_max\u001b[0m\u001b[1;33m\u001b[0m\u001b[1;33m\u001b[0m\u001b[0m\n\u001b[0;32m      4\u001b[0m \u001b[1;33m\u001b[0m\u001b[0m\n\u001b[0;32m      5\u001b[0m \u001b[0mtotal_loss\u001b[0m \u001b[1;33m=\u001b[0m \u001b[1;36m0\u001b[0m\u001b[1;33m\u001b[0m\u001b[1;33m\u001b[0m\u001b[0m\n",
      "\u001b[1;32m<ipython-input-5-f23aa649ec31>\u001b[0m in \u001b[0;36mforward\u001b[1;34m(self, x)\u001b[0m\n\u001b[0;32m     22\u001b[0m \u001b[1;33m\u001b[0m\u001b[0m\n\u001b[0;32m     23\u001b[0m     \u001b[1;32mdef\u001b[0m \u001b[0mforward\u001b[0m\u001b[1;33m(\u001b[0m\u001b[0mself\u001b[0m\u001b[1;33m,\u001b[0m \u001b[0mx\u001b[0m\u001b[1;33m)\u001b[0m\u001b[1;33m:\u001b[0m\u001b[1;33m\u001b[0m\u001b[1;33m\u001b[0m\u001b[0m\n\u001b[1;32m---> 24\u001b[1;33m         \u001b[0mx\u001b[0m \u001b[1;33m=\u001b[0m \u001b[0mF\u001b[0m\u001b[1;33m.\u001b[0m\u001b[0mrelu\u001b[0m\u001b[1;33m(\u001b[0m\u001b[0mself\u001b[0m\u001b[1;33m.\u001b[0m\u001b[0mfc1\u001b[0m\u001b[1;33m(\u001b[0m\u001b[0mx\u001b[0m\u001b[1;33m)\u001b[0m\u001b[1;33m)\u001b[0m\u001b[1;33m\u001b[0m\u001b[1;33m\u001b[0m\u001b[0m\n\u001b[0m\u001b[0;32m     25\u001b[0m         \u001b[0mx\u001b[0m \u001b[1;33m=\u001b[0m \u001b[0mF\u001b[0m\u001b[1;33m.\u001b[0m\u001b[0mrelu\u001b[0m\u001b[1;33m(\u001b[0m\u001b[0mself\u001b[0m\u001b[1;33m.\u001b[0m\u001b[0mfc2\u001b[0m\u001b[1;33m(\u001b[0m\u001b[0mx\u001b[0m\u001b[1;33m)\u001b[0m\u001b[1;33m)\u001b[0m\u001b[1;33m\u001b[0m\u001b[1;33m\u001b[0m\u001b[0m\n\u001b[0;32m     26\u001b[0m         \u001b[1;32mreturn\u001b[0m \u001b[0mx\u001b[0m\u001b[1;33m\u001b[0m\u001b[1;33m\u001b[0m\u001b[0m\n",
      "\u001b[1;32m~\\Miniconda3\\envs\\pytorch\\lib\\site-packages\\torch\\nn\\modules\\module.py\u001b[0m in \u001b[0;36m__call__\u001b[1;34m(self, *input, **kwargs)\u001b[0m\n\u001b[0;32m    548\u001b[0m             \u001b[0mresult\u001b[0m \u001b[1;33m=\u001b[0m \u001b[0mself\u001b[0m\u001b[1;33m.\u001b[0m\u001b[0m_slow_forward\u001b[0m\u001b[1;33m(\u001b[0m\u001b[1;33m*\u001b[0m\u001b[0minput\u001b[0m\u001b[1;33m,\u001b[0m \u001b[1;33m**\u001b[0m\u001b[0mkwargs\u001b[0m\u001b[1;33m)\u001b[0m\u001b[1;33m\u001b[0m\u001b[1;33m\u001b[0m\u001b[0m\n\u001b[0;32m    549\u001b[0m         \u001b[1;32melse\u001b[0m\u001b[1;33m:\u001b[0m\u001b[1;33m\u001b[0m\u001b[1;33m\u001b[0m\u001b[0m\n\u001b[1;32m--> 550\u001b[1;33m             \u001b[0mresult\u001b[0m \u001b[1;33m=\u001b[0m \u001b[0mself\u001b[0m\u001b[1;33m.\u001b[0m\u001b[0mforward\u001b[0m\u001b[1;33m(\u001b[0m\u001b[1;33m*\u001b[0m\u001b[0minput\u001b[0m\u001b[1;33m,\u001b[0m \u001b[1;33m**\u001b[0m\u001b[0mkwargs\u001b[0m\u001b[1;33m)\u001b[0m\u001b[1;33m\u001b[0m\u001b[1;33m\u001b[0m\u001b[0m\n\u001b[0m\u001b[0;32m    551\u001b[0m         \u001b[1;32mfor\u001b[0m \u001b[0mhook\u001b[0m \u001b[1;32min\u001b[0m \u001b[0mself\u001b[0m\u001b[1;33m.\u001b[0m\u001b[0m_forward_hooks\u001b[0m\u001b[1;33m.\u001b[0m\u001b[0mvalues\u001b[0m\u001b[1;33m(\u001b[0m\u001b[1;33m)\u001b[0m\u001b[1;33m:\u001b[0m\u001b[1;33m\u001b[0m\u001b[1;33m\u001b[0m\u001b[0m\n\u001b[0;32m    552\u001b[0m             \u001b[0mhook_result\u001b[0m \u001b[1;33m=\u001b[0m \u001b[0mhook\u001b[0m\u001b[1;33m(\u001b[0m\u001b[0mself\u001b[0m\u001b[1;33m,\u001b[0m \u001b[0minput\u001b[0m\u001b[1;33m,\u001b[0m \u001b[0mresult\u001b[0m\u001b[1;33m)\u001b[0m\u001b[1;33m\u001b[0m\u001b[1;33m\u001b[0m\u001b[0m\n",
      "\u001b[1;32m~\\Miniconda3\\envs\\pytorch\\lib\\site-packages\\torch\\nn\\modules\\linear.py\u001b[0m in \u001b[0;36mforward\u001b[1;34m(self, input)\u001b[0m\n\u001b[0;32m     85\u001b[0m \u001b[1;33m\u001b[0m\u001b[0m\n\u001b[0;32m     86\u001b[0m     \u001b[1;32mdef\u001b[0m \u001b[0mforward\u001b[0m\u001b[1;33m(\u001b[0m\u001b[0mself\u001b[0m\u001b[1;33m,\u001b[0m \u001b[0minput\u001b[0m\u001b[1;33m)\u001b[0m\u001b[1;33m:\u001b[0m\u001b[1;33m\u001b[0m\u001b[1;33m\u001b[0m\u001b[0m\n\u001b[1;32m---> 87\u001b[1;33m         \u001b[1;32mreturn\u001b[0m \u001b[0mF\u001b[0m\u001b[1;33m.\u001b[0m\u001b[0mlinear\u001b[0m\u001b[1;33m(\u001b[0m\u001b[0minput\u001b[0m\u001b[1;33m,\u001b[0m \u001b[0mself\u001b[0m\u001b[1;33m.\u001b[0m\u001b[0mweight\u001b[0m\u001b[1;33m,\u001b[0m \u001b[0mself\u001b[0m\u001b[1;33m.\u001b[0m\u001b[0mbias\u001b[0m\u001b[1;33m)\u001b[0m\u001b[1;33m\u001b[0m\u001b[1;33m\u001b[0m\u001b[0m\n\u001b[0m\u001b[0;32m     88\u001b[0m \u001b[1;33m\u001b[0m\u001b[0m\n\u001b[0;32m     89\u001b[0m     \u001b[1;32mdef\u001b[0m \u001b[0mextra_repr\u001b[0m\u001b[1;33m(\u001b[0m\u001b[0mself\u001b[0m\u001b[1;33m)\u001b[0m\u001b[1;33m:\u001b[0m\u001b[1;33m\u001b[0m\u001b[1;33m\u001b[0m\u001b[0m\n",
      "\u001b[1;32m~\\Miniconda3\\envs\\pytorch\\lib\\site-packages\\torch\\nn\\functional.py\u001b[0m in \u001b[0;36mlinear\u001b[1;34m(input, weight, bias)\u001b[0m\n\u001b[0;32m   1610\u001b[0m         \u001b[0mret\u001b[0m \u001b[1;33m=\u001b[0m \u001b[0mtorch\u001b[0m\u001b[1;33m.\u001b[0m\u001b[0maddmm\u001b[0m\u001b[1;33m(\u001b[0m\u001b[0mbias\u001b[0m\u001b[1;33m,\u001b[0m \u001b[0minput\u001b[0m\u001b[1;33m,\u001b[0m \u001b[0mweight\u001b[0m\u001b[1;33m.\u001b[0m\u001b[0mt\u001b[0m\u001b[1;33m(\u001b[0m\u001b[1;33m)\u001b[0m\u001b[1;33m)\u001b[0m\u001b[1;33m\u001b[0m\u001b[1;33m\u001b[0m\u001b[0m\n\u001b[0;32m   1611\u001b[0m     \u001b[1;32melse\u001b[0m\u001b[1;33m:\u001b[0m\u001b[1;33m\u001b[0m\u001b[1;33m\u001b[0m\u001b[0m\n\u001b[1;32m-> 1612\u001b[1;33m         \u001b[0moutput\u001b[0m \u001b[1;33m=\u001b[0m \u001b[0minput\u001b[0m\u001b[1;33m.\u001b[0m\u001b[0mmatmul\u001b[0m\u001b[1;33m(\u001b[0m\u001b[0mweight\u001b[0m\u001b[1;33m.\u001b[0m\u001b[0mt\u001b[0m\u001b[1;33m(\u001b[0m\u001b[1;33m)\u001b[0m\u001b[1;33m)\u001b[0m\u001b[1;33m\u001b[0m\u001b[1;33m\u001b[0m\u001b[0m\n\u001b[0m\u001b[0;32m   1613\u001b[0m         \u001b[1;32mif\u001b[0m \u001b[0mbias\u001b[0m \u001b[1;32mis\u001b[0m \u001b[1;32mnot\u001b[0m \u001b[1;32mNone\u001b[0m\u001b[1;33m:\u001b[0m\u001b[1;33m\u001b[0m\u001b[1;33m\u001b[0m\u001b[0m\n\u001b[0;32m   1614\u001b[0m             \u001b[0moutput\u001b[0m \u001b[1;33m+=\u001b[0m \u001b[0mbias\u001b[0m\u001b[1;33m\u001b[0m\u001b[1;33m\u001b[0m\u001b[0m\n",
      "\u001b[1;31mRuntimeError\u001b[0m: size mismatch, m1: [1 x 1500], m2: [1 x 4] at C:\\cb\\pytorch_1000000000000\\work\\aten\\src\\TH/generic/THTensorMath.cpp:41"
     ]
    }
   ],
   "source": [
    "# Evaluating using Mean Squared Error\n",
    "# scaling test data also between 0-1 to generate result (as the model was also trained with data scaled in range 0-1)\n",
    "\n",
    "x_test = torch.from_numpy(np.array(x_test_float/x_max, dtype='float32'))\n",
    "# Passing data through trained model\n",
    "output = model.forward(x_test)\n",
    "\n",
    "# Upscaling the output to real size\n",
    "output *= y_max\n",
    "\n",
    "\n",
    "# Accumulating loss over all the test samples\n",
    "total_loss = 0\n",
    "for index, sample in enumerate(output):\n",
    "    loss = torch.square(sample - y_test_float[index]) \n",
    "    #print(loss, sample, y_test_float[index])\n",
    "    \n",
    "    total_loss += loss\n",
    "mean_absolute_error = total_loss / len(output)\n",
    "print(torchch.sqrt(mean_absolute_error))"
   ]
  },
  {
   "cell_type": "markdown",
   "metadata": {},
   "source": [
    "### Save Model"
   ]
  },
  {
   "cell_type": "code",
   "execution_count": null,
   "metadata": {
    "scrolled": true
   },
   "outputs": [],
   "source": [
    "# Saving Trained Model\n",
    "\n",
    "dirName = 'Trained_models/'\n",
    "PATH = 'Trained_models/lower_leg_{}'.format(mean_absolute_error.item())\n",
    "\n",
    "if not os.path.exists(dirName):\n",
    "    os.mkdir(dirName)\n",
    "    print(\"Directory \" , dirName ,  \" Created \")\n",
    "else:    \n",
    "    print(\"Directory \" , dirName ,  \" already exists\")\n",
    "        \n",
    "#torch.save(model.state_dict(), PATH)\n",
    "#the_model = torch.load(PATH)"
   ]
  },
  {
   "cell_type": "markdown",
   "metadata": {},
   "source": [
    "## Average Loss with Pre-calculated weight"
   ]
  },
  {
   "cell_type": "code",
   "execution_count": null,
   "metadata": {
    "scrolled": false
   },
   "outputs": [],
   "source": [
    "# Parameters from paper to reconstruct height\n",
    "C1 = 0.289\n",
    "C2 = 59.745\n",
    "\n",
    "\n",
    "\n",
    "# Calculating Loss using the formula and accumlating loss over all test samples for comparison with NN results\n",
    "total_loss = 0\n",
    "\n",
    "for index, femur in enumerate(x_test_float):\n",
    "    \n",
    "    height = (C1 * femur *10) + C2 \n",
    "    total_loss += abs(height- y_test_float[index])/10\n",
    "    #print(abs(height- y1[index]/10))\n",
    "    #print(knee_height, height, y1[index]/10)\n",
    "    \n",
    "print(total_loss/len(x_test_float))\n",
    "       "
   ]
  }
 ],
 "metadata": {
  "kernelspec": {
   "display_name": "Python 3",
   "language": "python",
   "name": "python3"
  },
  "language_info": {
   "codemirror_mode": {
    "name": "ipython",
    "version": 3
   },
   "file_extension": ".py",
   "mimetype": "text/x-python",
   "name": "python",
   "nbconvert_exporter": "python",
   "pygments_lexer": "ipython3",
   "version": "3.6.10"
  }
 },
 "nbformat": 4,
 "nbformat_minor": 4
}
