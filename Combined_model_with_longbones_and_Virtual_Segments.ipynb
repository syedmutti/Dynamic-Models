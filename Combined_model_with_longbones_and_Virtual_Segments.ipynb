{
 "cells": [
  {
   "cell_type": "code",
   "execution_count": 2,
   "metadata": {},
   "outputs": [],
   "source": [
    "import torch\n",
    "import torch.nn as nn\n",
    "import torch.nn.functional as F\n",
    "import matplotlib.pyplot as plt\n",
    "import numpy as np\n",
    "import pandas as pd\n",
    "from time import time\n",
    "import numpy as np\n",
    "import os\n"
   ]
  },
  {
   "cell_type": "code",
   "execution_count": 3,
   "metadata": {},
   "outputs": [],
   "source": [
    "# Class for each small NN model\n",
    "class MyModelA(nn.Module):\n",
    "    def __init__(self):\n",
    "        super(MyModelA, self).__init__()\n",
    "        self.fc1 = nn.Linear(1, 4)\n",
    "        self.fc2 = nn.Linear(4, 1)\n",
    "        \n",
    "    def forward(self, x):\n",
    "        x = F.relu(self.fc1(x))\n",
    "        x = F.relu(self.fc2(x))\n",
    "        return x\n",
    "       \n",
    "# Main Combined Model\n",
    "# Class that uses all the small models combined and generated height , later generates all the long bones from this height\n",
    "class MyEnsemble(nn.Module):\n",
    "    def __init__(self, modelA, modelB, modelC, modelD, modelH2LL, modelH2UL, modelH2LA, modelH2UA):\n",
    "        super(MyEnsemble, self).__init__()\n",
    "        \n",
    "        # Models that are used to predict height from detected long bone\n",
    "        self.model_lower_leg = modelA\n",
    "        self.model_upper_leg = modelB\n",
    "        self.model_lower_arm = modelC\n",
    "        self.model_upper_arm = modelD\n",
    "        \n",
    "        # Models for Virtual Reconstruction from height to other segments\n",
    "        # Each model uses height information to predict other long bones\n",
    "        \n",
    "        self.height_to_lowerleg = modelH2LL\n",
    "        self.height_to_upper_leg = modelH2UL\n",
    "        self.height_to_lower_arm = modelH2LA\n",
    "        self.height_to_upper_arm = modelH2UA\n",
    "        \n",
    "\n",
    "                \n",
    "    def forward(self, x1, flag):\n",
    "        \n",
    "        # Function definition for height to long bone reconstruction\n",
    "        def reconstruct_Segments(height):\n",
    "            \n",
    "                        \n",
    "            # Multipication factors are the values that were used to scale values in range (0-1)\n",
    "            # Every model had different dataset, therefore also had different scaling factors\n",
    "            \n",
    "            pred_LL  = self.height_to_lowerleg(height/201.513) * 49.319  # 201.513741064 493.195872265\n",
    "            pred_UL = self.height_to_upper_leg(height/201.913) * 58.554   # 201.913788186 585.546772618\n",
    "            pred_LA = self.height_to_lower_arm(height/204.805) * 31.670  # 204.805580317 316.702168533\n",
    "            pred_UA = self.height_to_upper_arm(height/204.104) * 42.5100   # 204.104986515 425.100857276\n",
    "            \n",
    "            #returns all the predicted long bones from height\n",
    "            return pred_LL, pred_UL, pred_LA, pred_UA\n",
    "        \n",
    "        # Check the measured/detected long bone according to recieved flag and reconstruct height from respective long bone\n",
    "        # Multipication factors are the scaling factors used before training each network, results in original value.\n",
    "        if flag == 'lower_leg':\n",
    "            x = self.model_lower_leg(x1)\n",
    "            x*=195.5    \n",
    "            \n",
    "        if flag == 'upper_leg':\n",
    "            x = self.model_upper_leg(x1)\n",
    "            x*=204.1\n",
    "            \n",
    "        if flag == 'lower_arm':\n",
    "            x = self.model_lower_arm(x1)\n",
    "            x*=204.68\n",
    "            \n",
    "        if flag == 'upper_arm':\n",
    "            x = self.model_upper_arm(x1)\n",
    "            x*= 209.2665\n",
    "            \n",
    "        #print('Height predicted from {} : is {} cm'.format(flag, x.item()))\n",
    "        # After reconstructing height, pass the height to reconstruction function to reconstruct all the long bones form height.\n",
    "        pred_LL, pred_UL, pred_LA, pred_UA = reconstruct_Segments(x)\n",
    "        \n",
    "        return x, pred_LL, pred_UL, pred_LA, pred_UA\n"
   ]
  },
  {
   "cell_type": "code",
   "execution_count": 1,
   "metadata": {},
   "outputs": [
    {
     "ename": "NameError",
     "evalue": "name 'MyModelA' is not defined",
     "output_type": "error",
     "traceback": [
      "\u001b[1;31m---------------------------------------------------------------------------\u001b[0m",
      "\u001b[1;31mNameError\u001b[0m                                 Traceback (most recent call last)",
      "\u001b[1;32m<ipython-input-1-7cfa3a7fef63>\u001b[0m in \u001b[0;36m<module>\u001b[1;34m\u001b[0m\n\u001b[0;32m      3\u001b[0m \u001b[1;31m# Initialising 4 models for each long bone to reconstruct height\u001b[0m\u001b[1;33m\u001b[0m\u001b[1;33m\u001b[0m\u001b[1;33m\u001b[0m\u001b[0m\n\u001b[0;32m      4\u001b[0m \u001b[1;33m\u001b[0m\u001b[0m\n\u001b[1;32m----> 5\u001b[1;33m \u001b[0mmodel_lower_leg\u001b[0m \u001b[1;33m=\u001b[0m \u001b[0mMyModelA\u001b[0m\u001b[1;33m(\u001b[0m\u001b[1;33m)\u001b[0m\u001b[1;33m\u001b[0m\u001b[1;33m\u001b[0m\u001b[0m\n\u001b[0m\u001b[0;32m      6\u001b[0m \u001b[0mmodel_upper_leg\u001b[0m \u001b[1;33m=\u001b[0m \u001b[0mMyModelA\u001b[0m\u001b[1;33m(\u001b[0m\u001b[1;33m)\u001b[0m\u001b[1;33m\u001b[0m\u001b[1;33m\u001b[0m\u001b[0m\n\u001b[0;32m      7\u001b[0m \u001b[0mmodel_lower_arm\u001b[0m \u001b[1;33m=\u001b[0m \u001b[0mMyModelA\u001b[0m\u001b[1;33m(\u001b[0m\u001b[1;33m)\u001b[0m\u001b[1;33m\u001b[0m\u001b[1;33m\u001b[0m\u001b[0m\n",
      "\u001b[1;31mNameError\u001b[0m: name 'MyModelA' is not defined"
     ]
    }
   ],
   "source": [
    "# Create models and load state_dicts    \n",
    "\n",
    "# Initialising 4 models for each long bone to reconstruct height\n",
    "\n",
    "model_lower_leg = MyModelA()\n",
    "model_upper_leg = MyModelA()\n",
    "model_lower_arm = MyModelA()\n",
    "model_upper_arm = MyModelA()\n",
    "\n",
    "\n",
    "#Virtual Segments Reconstruction Model\n",
    "#Initialising Models that will predict each long bone from heigh\n",
    "\n",
    "model_height_to_lowerleg = MyModelA()\n",
    "model_height_to_upper_leg = MyModelA()\n",
    "model_height_to_lower_arm = MyModelA()\n",
    "model_height_to_upper_arm = MyModelA()\n",
    "\n",
    "# Load state dicts\n",
    "# Paths to weights for each long bone models\n",
    "PATH_lower_leg = 'Trained_models/lower_leg_pytorch_/ansur_model_2.6701'\n",
    "PATH_upper_leg = 'Trained_models/upper_leg_model_pytorch_/upper_leg_5.84564208984375'\n",
    "PATH_lower_arm = 'Trained_models/lower_arm_pytorch_/lower_arm_pytorch_3.489548921585083'\n",
    "PATH_upper_arm = 'Trained_models/upper_arm_pytorch_/upper_arm_pytorch4.744106292724609'\n",
    "\n",
    "# Virtual Models\n",
    "# Paths to weights for each virtual height to long bone models\n",
    "PATH_model_height_to_lowerleg =  'Virtual_Segments/Trained_models/height_lower_leg_5.075006484985352'\n",
    "PATH_model_height_to_upper_leg = 'Virtual_Segments/Trained_models/height_upper_leg_18.44318962097168'\n",
    "PATH_model_height_to_lower_arm = 'Virtual_Segments/Trained_models/height_lower_arm_9.933013916015625'\n",
    "PATH_model_height_to_upper_arm = 'Virtual_Segments/Trained_models/Height_upper_arm_9.007071495056152'\n",
    "\n",
    "# Loading Learned Weights for each long bone to height models\n",
    "\n",
    "model_lower_leg.load_state_dict(torch.load(PATH_lower_leg))\n",
    "model_upper_leg.load_state_dict(torch.load(PATH_upper_leg))\n",
    "model_lower_arm.load_state_dict(torch.load(PATH_lower_arm))\n",
    "model_upper_arm.load_state_dict(torch.load(PATH_upper_arm))\n",
    "\n",
    "# Loading Learned Weights for height to each Virtual Segments\n",
    "model_height_to_lowerleg.load_state_dict(torch.load(PATH_model_height_to_lowerleg))\n",
    "model_height_to_upper_leg.load_state_dict(torch.load(PATH_model_height_to_upper_leg))\n",
    "model_height_to_lower_arm.load_state_dict(torch.load(PATH_model_height_to_lower_arm))\n",
    "model_height_to_upper_arm.load_state_dict(torch.load(PATH_model_height_to_upper_arm))\n",
    "\n",
    "\n",
    "#Creating the main (Combined) model with all the pre-trained loaded weights\n",
    "model = MyEnsemble(model_lower_leg, model_upper_leg, model_lower_arm, model_upper_arm,\n",
    "                    model_height_to_lowerleg, model_height_to_upper_leg,\n",
    "                    model_height_to_lower_arm, model_height_to_upper_arm)\n",
    "\n",
    "\n",
    "#  Function to Display Outputs with each long bone \n",
    "\n",
    "def display(output):\n",
    "    x, pred_LL, pred_UL, pred_LA, pred_UA = output\n",
    "    \n",
    "    print('Stature: ', x.item(), 'LL: ', pred_LL.item(),'UL: ', pred_UL.item(),'LA: ', pred_LA.item(),'UA: ', pred_UA.item())\n",
    "    \n"
   ]
  },
  {
   "cell_type": "code",
   "execution_count": 13,
   "metadata": {},
   "outputs": [
    {
     "name": "stdout",
     "output_type": "stream",
     "text": [
      "Input lower_leg : 51.1\n",
      "Height predicted from lower_leg : is 177.85983276367188 cm\n",
      "Stature:  177.85983276367188 LL:  40.69742965698242 UL:  48.497840881347656 LA:  24.779220581054688 UA:  34.680152893066406\n"
     ]
    }
   ],
   "source": [
    "## Inference Using Knee_Height\n",
    "# Test value \n",
    "lower_leg = 511.0\n",
    "flag = 'lower_leg' #176.88\n",
    "\n",
    "# Converting value to a pytorch tensor\n",
    "x1 = torch.from_numpy(np.array([lower_leg], dtype='float32'))\n",
    "\n",
    "# Visualising in cm\n",
    "print('Input lower_leg :', x1.item()/10)\n",
    "\n",
    "# Reshaping to networks input size\n",
    "x1.view((1,1))\n",
    "\n",
    "# Passing through the main model with flag to generate height and also other segments\n",
    "output = model(x1/592.0, flag)\n",
    "\n",
    "display(output)"
   ]
  },
  {
   "cell_type": "code",
   "execution_count": 9,
   "metadata": {},
   "outputs": [
    {
     "name": "stdout",
     "output_type": "stream",
     "text": [
      "\n",
      "Input upper_leg : 44.0\n",
      "Height predicted from upper_leg : is 176.82974243164062 cm\n",
      "Stature:  176.82974243164062 LL:  40.39461135864258 UL:  48.42181396484375 LA:  24.714984893798828 UA:  34.527488708496094\n"
     ]
    }
   ],
   "source": [
    "## Inference Using upper_leg\n",
    "# Test value \n",
    "upper_leg = 44.0\n",
    "flag = 'upper_leg'  # 174.8\n",
    "\n",
    "# Converting value to a pytorch tensor\n",
    "x1 = torch.from_numpy(np.array([upper_leg], dtype='float32'))\n",
    "\n",
    "# Printing input value in cm\n",
    "print('\\nInput upper_leg :', x1.item())\n",
    "\n",
    "\n",
    "# Reshaping to networks input size\n",
    "x1.view((1,1))        \n",
    "\n",
    "# Passing through the main model with flag to generate height and also other segments\n",
    "output = model(x1/55.5, flag)  \n",
    "\n",
    "display(output)\n"
   ]
  },
  {
   "cell_type": "code",
   "execution_count": 10,
   "metadata": {},
   "outputs": [
    {
     "name": "stdout",
     "output_type": "stream",
     "text": [
      "\n",
      "Input lower_arm : 266.5199890136719\n",
      "Height predicted from lower_arm : is 189.4103546142578 cm\n",
      "Stature:  189.4103546142578 LL:  44.09303665161133 UL:  49.350345611572266 LA:  25.499509811401367 UA:  36.301734924316406\n"
     ]
    }
   ],
   "source": [
    "\n",
    "## Inference Using Lower Arm\n",
    "# Test value \n",
    "lower_arm = 266.52\n",
    "flag = 'lower_arm'  # 192.076\n",
    "\n",
    "# Converting value to a pytorch tensor\n",
    "x1 = torch.from_numpy(np.array([lower_arm], dtype='float32'))\n",
    "\n",
    "# Printing input value in cm\n",
    "print('\\nInput lower_arm :', x1.item())\n",
    "\n",
    "# Reshaping to networks input size\n",
    "x1.view((1,1))        \n",
    "\n",
    "# Passing through the main model with flag to generate height and also other segments\n",
    "output = model(x1/280.15, flag)\n",
    "\n",
    "display(output)\n"
   ]
  },
  {
   "cell_type": "code",
   "execution_count": 11,
   "metadata": {},
   "outputs": [
    {
     "name": "stdout",
     "output_type": "stream",
     "text": [
      "\n",
      "Input upper_arm : 358.9599914550781\n",
      "Height predicted from upper_arm : is 181.39915466308594 cm\n",
      "Stature:  181.39915466308594 LL:  41.737918853759766 UL:  48.759063720703125 LA:  24.99993133544922 UA:  35.2047004699707\n"
     ]
    }
   ],
   "source": [
    "## Inference Using Sitting Height Under 18\n",
    "# Test value \n",
    "upper_arm = 358.96\n",
    "flag = 'upper_arm'  # 182.67\n",
    "\n",
    "# Converting value to a pytorch tensor\n",
    "x1 = torch.from_numpy(np.array([upper_arm], dtype='float32'))\n",
    "\n",
    "# Printing input value in cm\n",
    "print('\\nInput upper_arm :', x1.item())\n",
    "\n",
    "# Reshaping to networks input size\n",
    "x1.view((1,1))        \n",
    "\n",
    "# Passing through the main model with flag to generate height and also other segments\n",
    "output = model(x1/389.098, flag)\n",
    "display(output)"
   ]
  },
  {
   "cell_type": "code",
   "execution_count": null,
   "metadata": {},
   "outputs": [],
   "source": []
  }
 ],
 "metadata": {
  "kernelspec": {
   "display_name": "Python 3",
   "language": "python",
   "name": "python3"
  },
  "language_info": {
   "codemirror_mode": {
    "name": "ipython",
    "version": 3
   },
   "file_extension": ".py",
   "mimetype": "text/x-python",
   "name": "python",
   "nbconvert_exporter": "python",
   "pygments_lexer": "ipython3",
   "version": "3.6.10"
  }
 },
 "nbformat": 4,
 "nbformat_minor": 4
}
